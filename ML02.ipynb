{
  "nbformat": 4,
  "nbformat_minor": 0,
  "metadata": {
    "colab": {
      "name": "ML02.ipynb",
      "provenance": [],
      "collapsed_sections": []
    },
    "kernelspec": {
      "name": "python3",
      "display_name": "Python 3"
    }
  },
  "cells": [
    {
      "cell_type": "code",
      "metadata": {
        "id": "KnAqMXI7RhFq"
      },
      "source": [
        "# https://www.techwithtim.net/tutorials/"
      ],
      "execution_count": null,
      "outputs": []
    },
    {
      "cell_type": "code",
      "metadata": {
        "id": "iR2zHs3-1oV-"
      },
      "source": [
        "# linear regression\n",
        "import pandas as pd\n",
        "import numpy as np\n",
        "import sklearn\n",
        "from sklearn import linear_model\n",
        "from sklearn.utils import shuffle\n",
        "\n",
        "! wget http://techwithtim.net/wp-content/uploads/2019/01/student-mat.csv"
      ],
      "execution_count": null,
      "outputs": []
    },
    {
      "cell_type": "code",
      "metadata": {
        "id": "UgfjUmoCGAxi"
      },
      "source": [
        "data = pd.read_csv(\"student-mat.csv\", sep=\";\")\n",
        "print(len(data))\n",
        "print(type(data))\n",
        "print(data.shape)\n",
        "print(data.head())\n",
        "print()\n",
        "all_cols = []\n",
        "for col in data:\n",
        "  all_cols.append(col)\n",
        "print(all_cols)\n",
        "\n",
        "data = data[[\"G1\", \"G2\", \"G3\", \"studytime\", \"failures\", \"absences\"]]\n",
        "\n",
        "data = shuffle(data) # Optional - shuffle the data\n",
        "\n",
        "print(len(data))\n",
        "print(type(data))\n",
        "print(data.shape)\n",
        "print(data.head())\n",
        "print()\n",
        "\n",
        "predict = \"G3\"\n",
        "X = np.array(data.drop([predict], 1))\n",
        "print(len(X))\n",
        "print(type(X))\n",
        "print(X.shape)\n",
        "print(X[:5])\n",
        "\n",
        "y = np.array(data[predict])\n",
        "print(len(y))\n",
        "print(type(y))\n",
        "print(y.shape)\n",
        "print(y[:5])\n",
        "print()\n",
        "\n",
        "\n",
        "x_train, x_test, y_train, y_test = sklearn.model_selection.train_test_split(X, y, test_size = 0.1)\n",
        "print(len(x_train))\n",
        "print(len(x_test))\n",
        "print(len(y_train))\n",
        "print(len(y_test))"
      ],
      "execution_count": null,
      "outputs": []
    },
    {
      "cell_type": "code",
      "metadata": {
        "id": "7fijz3VOHzcU"
      },
      "source": [
        "# TRAIN MODEL MULTIPLE TIMES FOR BEST SCORE\n",
        "import pickle\n",
        "\n",
        "best = 0\n",
        "for _ in range(20):\n",
        "  x_train, x_test, y_train, y_test = sklearn.model_selection.train_test_split(X, y, test_size = 0.1)\n",
        "  linear = linear_model.LinearRegression()\n",
        "  linear.fit(x_train, y_train)\n",
        "  acc = linear.score(x_test, y_test)\n",
        "  print(\"Accuracy: \" + str(acc))\n",
        "  if acc > best:\n",
        "    best = acc\n",
        "    with open(\"studentgrades.pickle\", \"wb\") as f:\n",
        "      pickle.dump(linear, f)\n",
        "\n",
        "# LOAD MODEL\n",
        "print(best)\n",
        "pickle_in = open(\"studentgrades.pickle\", \"rb\")\n",
        "linear = pickle.load(pickle_in)\n",
        "\n",
        "print('Coefficient: \\n', linear.coef_)\n",
        "print('Intercept: \\n', linear.intercept_)"
      ],
      "execution_count": null,
      "outputs": []
    },
    {
      "cell_type": "code",
      "metadata": {
        "colab": {
          "base_uri": "https://localhost:8080/"
        },
        "id": "UQ6AWqX7IPEa",
        "outputId": "54e99ae7-23c3-42d7-8ab3-4a6e0523a7c1"
      },
      "source": [
        "predictions = linear.predict(x_test)\n",
        "\n",
        "x_axis = []\n",
        "y1_axis = []\n",
        "y2_axis = []\n",
        "\n",
        "for x in range(len(predictions)):\n",
        "  #print(x_test[x], predictions[x], y_test[x], y_test[x] - predictions[x])\n",
        "  #print(x_test[x], y_test[x] - predictions[x])\n",
        "  x_axis.append(x)\n",
        "  y1_axis.append(predictions[x])\n",
        "  if y_test[x] > predictions[x]:\n",
        "    y2_axis.append(y_test[x] - predictions[x])\n",
        "  else:\n",
        "    y2_axis.append(predictions[x] - y_test[x])\n",
        "print()"
      ],
      "execution_count": null,
      "outputs": [
        {
          "output_type": "stream",
          "text": [
            "\n"
          ],
          "name": "stdout"
        }
      ]
    },
    {
      "cell_type": "code",
      "metadata": {
        "id": "teFSJwYgOmiB"
      },
      "source": [
        "import matplotlib.pyplot as plt\n",
        "from matplotlib import style\n",
        "\n",
        "style.use(\"ggplot\")\n",
        "\n",
        "# Drawing and plotting model\n",
        "plot = \"failures\"\n",
        "plt.scatter(data[plot], data[\"G3\"])\n",
        "#plt.scatter(data[\"G3\"], data[plot])\n",
        "plt.legend(loc=4)\n",
        "plt.xlabel(plot)\n",
        "plt.ylabel(\"Final Grade\")\n",
        "plt.show()\n",
        "\n"
      ],
      "execution_count": null,
      "outputs": []
    },
    {
      "cell_type": "code",
      "metadata": {
        "colab": {
          "base_uri": "https://localhost:8080/",
          "height": 265
        },
        "id": "fTpqz4V1S2lR",
        "outputId": "73573e09-573b-49a4-ad90-3915a1c6f12c"
      },
      "source": [
        "flag = 0\n",
        "if flag == 1:\n",
        "  plt.scatter(x_axis, predictions, c='blue')\n",
        "  plt.scatter(x_axis, y_test, c='red')\n",
        "  plt.legend(['blue', 'red'])\n",
        "else:\n",
        "  plt.scatter(x_axis, y2_axis, c='red')\n",
        "plt.show()\n"
      ],
      "execution_count": null,
      "outputs": [
        {
          "output_type": "display_data",
          "data": {
            "image/png": "[encoded data removed]",
            "text/plain": [
              "<Figure size 432x288 with 1 Axes>"
            ]
          },
          "metadata": {
            "tags": []
          }
        }
      ]
    },
    {
      "cell_type": "code",
      "metadata": {
        "id": "DbP2on0cUB25"
      },
      "source": [
        "# KNN\n",
        "!wget http://techwithtim.net/wp-content/uploads/2019/01/Car-Data-Set.zip\n",
        "\n",
        "import sklearn\n",
        "from sklearn.utils import shuffle\n",
        "from sklearn.neighbors import KNeighborsClassifier\n",
        "import pandas as pd\n",
        "import numpy as np\n",
        "from sklearn import linear_model, preprocessing\n",
        "\n",
        "!unzip Car-Data-Set.zip"
      ],
      "execution_count": null,
      "outputs": []
    },
    {
      "cell_type": "code",
      "metadata": {
        "id": "oKDou67YUtlY"
      },
      "source": [
        "data = pd.read_csv(\"car.data\")\n",
        "print(data.head())\n",
        "print()\n",
        "\n",
        "print(type(data))\n",
        "print(data.shape)\n",
        "print()\n",
        "\n",
        "for col in data:\n",
        "  print(col)"
      ],
      "execution_count": null,
      "outputs": []
    },
    {
      "cell_type": "code",
      "metadata": {
        "colab": {
          "base_uri": "https://localhost:8080/"
        },
        "id": "B7LuTHY7VJMA",
        "outputId": "7db33fdf-72c9-43e6-f478-492ac967a343"
      },
      "source": [
        "print(data.head())\n",
        "\n",
        "le = preprocessing.LabelEncoder()\n",
        "\n",
        "buying = le.fit_transform(list(data[\"buying\"]))\n",
        "maint = le.fit_transform(list(data[\"maint\"]))\n",
        "door = le.fit_transform(list(data[\"door\"]))\n",
        "persons = le.fit_transform(list(data[\"persons\"]))\n",
        "lug_boot = le.fit_transform(list(data[\"lug_boot\"]))\n",
        "safety = le.fit_transform(list(data[\"safety\"]))\n",
        "cls = le.fit_transform(list(data[\"class\"]))\n",
        "\n",
        "print(type(buying))\n",
        "print(len(buying))\n",
        "print(type(maint))\n",
        "print(len(maint))\n",
        "print(type(door))\n",
        "print(len(door))\n",
        "print(type(persons))\n",
        "print(len(persons))\n",
        "print(type(lug_boot))\n",
        "print(len(lug_boot))\n",
        "print(type(safety))\n",
        "print(len(safety))\n",
        "print(type(cls))\n",
        "print(len(cls))"
      ],
      "execution_count": null,
      "outputs": [
        {
          "output_type": "stream",
          "text": [
            "  buying  maint door persons lug_boot safety  class\n",
            "0  vhigh  vhigh    2       2    small    low  unacc\n",
            "1  vhigh  vhigh    2       2    small    med  unacc\n",
            "2  vhigh  vhigh    2       2    small   high  unacc\n",
            "3  vhigh  vhigh    2       2      med    low  unacc\n",
            "4  vhigh  vhigh    2       2      med    med  unacc\n",
            "<class 'numpy.ndarray'>\n",
            "1728\n",
            "<class 'numpy.ndarray'>\n",
            "1728\n",
            "<class 'numpy.ndarray'>\n",
            "1728\n",
            "<class 'numpy.ndarray'>\n",
            "1728\n",
            "<class 'numpy.ndarray'>\n",
            "1728\n",
            "<class 'numpy.ndarray'>\n",
            "1728\n",
            "<class 'numpy.ndarray'>\n",
            "1728\n"
          ],
          "name": "stdout"
        }
      ]
    },
    {
      "cell_type": "code",
      "metadata": {
        "id": "7Ljj-qv2Wn45"
      },
      "source": [
        "X = list(zip(buying, maint, door, persons, lug_boot, safety))\n",
        "y = list(cls)\n",
        "\n",
        "x_train, x_test, y_train, y_test = sklearn.model_selection.train_test_split(X, y, test_size = 0.1)\n",
        "\n",
        "print(len(x_train))\n",
        "print(len(x_test))\n",
        "print(len(y_train))\n",
        "print(len(y_test))\n",
        "\n",
        "print(x_train[:5])\n",
        "print(x_test[:5])\n",
        "print(y_train[:5])\n",
        "print(y_test[:5])"
      ],
      "execution_count": null,
      "outputs": []
    },
    {
      "cell_type": "code",
      "metadata": {
        "id": "EScdqwnLXprD"
      },
      "source": [
        "model = KNeighborsClassifier(n_neighbors=7)\n",
        "model.fit(x_train, y_train)\n",
        "acc = model.score(x_test, y_test)\n",
        "print(acc)\n",
        "predicted = model.predict(x_test)\n",
        "names = [\"unacc\", \"acc\", \"good\", \"vgood\"]\n",
        "for x in range(len(predicted)):\n",
        "  print(\"Data: \", x_test[x], \"Predicted: \", names[predicted[x]], \"Actual: \", names[y_test[x]])\n",
        "  #dis, ind = model.kneighbors([x_test[x]], 9, True)\n",
        "  #print(\"N: \", ind)\n"
      ],
      "execution_count": null,
      "outputs": []
    },
    {
      "cell_type": "code",
      "metadata": {
        "id": "JV64dp0_Z9-r"
      },
      "source": [
        "# SVM\n",
        "import sklearn\n",
        "from sklearn import datasets\n",
        "from sklearn import svm\n",
        "from sklearn import metrics\n",
        "from sklearn.neighbors import KNeighborsClassifier\n",
        "\n",
        "cancer = datasets.load_breast_cancer()\n",
        "print(type(cancer))\n",
        "print(len(cancer))\n",
        "for col in cancer:\n",
        "  print(col)\n",
        "print()\n",
        "\n",
        "fns = cancer.feature_names\n",
        "print(type(fns))\n",
        "print(len(fns))\n",
        "print(fns)\n",
        "print()\n",
        "\n",
        "tns = cancer.target_names\n",
        "print(type(tns))\n",
        "print(len(tns))\n",
        "print(tns)\n",
        "print()"
      ],
      "execution_count": null,
      "outputs": []
    },
    {
      "cell_type": "code",
      "metadata": {
        "id": "3gi8zJVsgveJ"
      },
      "source": [
        "x = cancer.data\n",
        "y = cancer.target\n",
        "print(type(x))\n",
        "print(len(x))\n",
        "print(x.shape)\n",
        "print(type(y))\n",
        "print(len(y))\n",
        "print(y.shape)\n",
        "\n",
        "x_train, x_test, y_train, y_test = sklearn.model_selection.train_test_split(x, y, test_size=0.2)"
      ],
      "execution_count": null,
      "outputs": []
    },
    {
      "cell_type": "code",
      "metadata": {
        "colab": {
          "base_uri": "https://localhost:8080/"
        },
        "id": "tnzG5hPRhA3v",
        "outputId": "e1fdfb9e-562f-4dfb-8bb8-abaae1085459"
      },
      "source": [
        "clf = svm.SVC(kernel=\"linear\")\n",
        "clf.fit(x_train, y_train)\n",
        "\n",
        "y_pred = clf.predict(x_test)\n",
        "acc = metrics.accuracy_score(y_test, y_pred)\n",
        "print(acc)"
      ],
      "execution_count": null,
      "outputs": [
        {
          "output_type": "stream",
          "text": [
            "0.9649122807017544\n"
          ],
          "name": "stdout"
        }
      ]
    },
    {
      "cell_type": "code",
      "metadata": {
        "id": "hJPWeZBuizNh"
      },
      "source": [
        "# K-Means\n",
        "\n",
        "from time import time\n",
        "import numpy as np\n",
        "import matplotlib.pyplot as plt\n",
        "\n",
        "from sklearn import metrics\n",
        "from sklearn.cluster import KMeans\n",
        "from sklearn.datasets import load_digits\n",
        "from sklearn.decomposition import PCA\n",
        "from sklearn.preprocessing import scale\n",
        "\n",
        "np.random.seed(42)\n",
        "\n",
        "digits = load_digits()\n",
        "data = digits.data\n",
        "print(type(data))\n",
        "print(data.shape)\n",
        "#print(data[0])\n",
        "print(data.mean(axis=0))\n",
        "print(data.mean(axis=1))\n",
        "print()\n",
        "\n",
        "\n",
        "data = scale(digits.data)\n",
        "print(type(data))\n",
        "print(data.shape)\n",
        "#print(data[0])\n",
        "print(data.mean(axis=0))\n",
        "print(data.mean(axis=1))\n",
        "print()\n"
      ],
      "execution_count": null,
      "outputs": []
    },
    {
      "cell_type": "code",
      "metadata": {
        "id": "vZFrB7GG3nTU"
      },
      "source": [
        "n_samples, n_features = data.shape\n",
        "print(n_samples)\n",
        "print(n_features)\n",
        "\n",
        "n_digits = len(np.unique(digits.target))\n",
        "print(n_digits)\n",
        "print(np.unique(digits.target))\n",
        "\n",
        "labels = digits.target\n",
        "print(len(labels))\n",
        "print(labels[:20])\n",
        "\n",
        "print(\"n_digits: %d, \\t n_samples %d, \\t n_features %d\" % (n_digits, n_samples, n_features))\n",
        "\n",
        "sample_size = 300\n",
        "\n",
        "print(82 * '_')\n",
        "print('init\\t\\ttime\\tinertia\\thomo\\tcompl\\tv-meas\\tARI\\tAMI\\tsilhouette')\n",
        "\n",
        "def bench_k_means(estimator, name, data):\n",
        "  t0 = time()\n",
        "  estimator.fit(data)\n",
        "  print('%-9s\\t%.2fs\\t%i\\t%.3f\\t%.3f\\t%.3f\\t%.3f\\t%.3f\\t%.3f'\n",
        "    % (name, (time() - t0), estimator.inertia_,\n",
        "    metrics.homogeneity_score(labels, estimator.labels_),\n",
        "    metrics.completeness_score(labels, estimator.labels_),\n",
        "    metrics.v_measure_score(labels, estimator.labels_),\n",
        "    metrics.adjusted_rand_score(labels, estimator.labels_),\n",
        "    metrics.adjusted_mutual_info_score(labels,  estimator.labels_),\n",
        "    metrics.silhouette_score(data, estimator.labels_, metric='euclidean', sample_size=sample_size)))\n",
        "\n",
        "bench_k_means(KMeans(init='k-means++', n_clusters=n_digits, n_init=10), name=\"k-means++\", data=data)\n",
        "bench_k_means(KMeans(init='random', n_clusters=n_digits, n_init=10), name=\"random\", data=data)\n",
        "\n",
        "print(82 * '_')\n",
        "# #############################################################################\n",
        "# Visualize the results on PCA-reduced data\n",
        "\n",
        "reduced_data = PCA(n_components=2).fit_transform(data)\n",
        "kmeans = KMeans(init='k-means++', n_clusters=n_digits, n_init=10)\n",
        "kmeans.fit(reduced_data)\n",
        "print(data.shape)\n",
        "print(reduced_data.shape)\n",
        "\n",
        "\n",
        "# Step size of the mesh. Decrease to increase the quality of the VQ.\n",
        "h = .02     # point in the mesh [x_min, x_max]x[y_min, y_max].\n",
        "\n",
        "# Plot the decision boundary. For that, we will assign a color to each\n",
        "x_min, x_max = reduced_data[:, 0].min() - 1, reduced_data[:, 0].max() + 1\n",
        "y_min, y_max = reduced_data[:, 1].min() - 1, reduced_data[:, 1].max() + 1\n",
        "xx, yy = np.meshgrid(np.arange(x_min, x_max, h), np.arange(y_min, y_max, h))\n",
        "\n",
        "print(x_min, x_max)\n",
        "print(y_min, y_max)\n",
        "print(len(np.arange(x_min, x_max, h)))\n",
        "print(len(np.arange(y_min, y_max, h)))\n",
        "print(len(xx))\n",
        "print(len(xx[0]))\n",
        "print(xx.shape)\n",
        "print(len(yy))\n",
        "print(len(yy[0]))\n",
        "print(yy.shape)\n",
        "\n",
        "# Obtain labels for each point in mesh. Use last trained model.\n",
        "Z = kmeans.predict(np.c_[xx.ravel(), yy.ravel()])\n",
        "print(len(Z))\n",
        "\n",
        "# Put the result into a color plot\n",
        "Z = Z.reshape(xx.shape)\n",
        "plt.figure(1)\n",
        "plt.clf()\n",
        "plt.imshow(Z, interpolation='nearest',\n",
        "           extent=(xx.min(), xx.max(), yy.min(), yy.max()),\n",
        "           cmap=plt.cm.Paired,\n",
        "           aspect='auto', origin='lower')\n",
        "\n",
        "plt.plot(reduced_data[:, 0], reduced_data[:, 1], 'k.', markersize=2)\n",
        "# Plot the centroids as a white X\n",
        "centroids = kmeans.cluster_centers_\n",
        "plt.scatter(centroids[:, 0], centroids[:, 1],\n",
        "            marker='x', s=169, linewidths=3,\n",
        "            color='w', zorder=10)\n",
        "plt.title('K-means clustering on the digits dataset (PCA-reduced data)\\n'\n",
        "          'Centroids are marked with white cross')\n",
        "plt.xlim(x_min, x_max)\n",
        "plt.ylim(y_min, y_max)\n",
        "plt.xticks(())\n",
        "plt.yticks(())\n",
        "plt.show()"
      ],
      "execution_count": null,
      "outputs": []
    },
    {
      "cell_type": "code",
      "metadata": {
        "colab": {
          "base_uri": "https://localhost:8080/"
        },
        "id": "TgO_KKW6D9Zq",
        "outputId": "ca340ab0-8f72-4f2f-9624-9433f9fb1deb"
      },
      "source": [
        "import numpy as np\n",
        "import sklearn\n",
        "from sklearn.preprocessing import scale\n",
        "from sklearn.datasets import load_digits\n",
        "from sklearn.cluster import KMeans\n",
        "from sklearn import metrics\n",
        "\n",
        "digits = load_digits()\n",
        "data = scale(digits.data)\n",
        "y = digits.target\n",
        "\n",
        "k = 10\n",
        "samples, features = data.shape\n",
        "\n",
        "print(82 * '_')\n",
        "print('init\\t\\ttime\\tinertia\\thomo\\tcompl\\tv-meas\\tARI\\tAMI\\tsilhouette')\n",
        "clf = KMeans(n_clusters=k, init=\"random\", n_init=10)\n",
        "bench_k_means(clf, \"1\", data)\n",
        "\n",
        "clf = KMeans(n_clusters=k, init=\"k-means++\", n_init=10)\n",
        "bench_k_means(clf, \"1\", data)\n",
        "\n",
        "reduced_data = PCA(n_components=2).fit_transform(data)\n",
        "#kmeans = KMeans(init='k-means++', n_clusters=n_digits, n_init=10)\n",
        "#kmeans.fit(reduced_data)\n",
        "clf = KMeans(init='k-means++', n_clusters=n_digits, n_init=10)\n",
        "bench_k_means(clf, \"1\", reduced_data)\n",
        "\n",
        "clf = KMeans(init='random', n_clusters=n_digits, n_init=10)\n",
        "bench_k_means(clf, \"1\", reduced_data)"
      ],
      "execution_count": null,
      "outputs": [
        {
          "output_type": "stream",
          "text": [
            "__________________________________________________________________________________\n",
            "init\t\ttime\tinertia\thomo\tcompl\tv-meas\tARI\tAMI\tsilhouette\n",
            "1        \t0.20s\t69656\t0.669\t0.712\t0.690\t0.550\t0.687\t0.136\n",
            "1        \t0.43s\t69462\t0.609\t0.657\t0.632\t0.477\t0.628\t0.134\n",
            "1        \t0.17s\t2815\t0.459\t0.470\t0.464\t0.326\t0.459\t0.376\n",
            "1        \t0.16s\t2816\t0.457\t0.469\t0.463\t0.324\t0.457\t0.385\n"
          ],
          "name": "stdout"
        }
      ]
    },
    {
      "cell_type": "code",
      "metadata": {
        "id": "T-K1fVovBSBT"
      },
      "source": [
        "#coding:utf-8\n",
        "import numpy as np\n",
        "# 坐标向量\n",
        "a = np.array([1,2,3])\n",
        "# 坐标向量\n",
        "b = np.array([7,8])\n",
        "# 从坐标向量中返回坐标矩阵\n",
        "# 返回list,有两个元素,第一个元素是X轴的取值,第二个元素是Y轴的取值\n",
        "xx, yy = np.meshgrid(a,b)\n",
        "#返回结果: [array([ [1,2,3] [1,2,3] ]), array([ [7,7,7] [8,8,8] ])]\n",
        "print(xx)\n",
        "print(yy)"
      ],
      "execution_count": null,
      "outputs": []
    }
  ]
}
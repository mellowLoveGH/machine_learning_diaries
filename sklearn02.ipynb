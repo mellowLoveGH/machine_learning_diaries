{
  "nbformat": 4,
  "nbformat_minor": 0,
  "metadata": {
    "colab": {
      "name": "sklearn02.ipynb",
      "provenance": []
    },
    "kernelspec": {
      "name": "python3",
      "display_name": "Python 3"
    }
  },
  "cells": [
    {
      "cell_type": "code",
      "metadata": {
        "id": "r1cIUQgW_F2a"
      },
      "source": [
        "# Scikit Learn - Linear Modeling\n",
        "# https://www.tutorialspoint.com/scikit_learn/scikit_learn_linear_modeling.htm\n",
        "\n",
        "import numpy as np\n",
        "from sklearn.linear_model import LinearRegression\n",
        "import random"
      ],
      "execution_count": null,
      "outputs": []
    },
    {
      "cell_type": "code",
      "metadata": {
        "id": "Cdn_RnvzA9Hj"
      },
      "source": [
        "# \n",
        "os = []\n",
        "for i in range(0, 4):\n",
        "  os.append(random.uniform(0, 1))\n",
        "print(os)\n",
        "\n",
        "X = np.array([[1,1],[1,2],[2,2],[2,3]])\n",
        "y = np.dot(X, np.array([1,2])) + os\n",
        "\n",
        "print(X)\n",
        "print(y)\n",
        "print()\n",
        "\n",
        "regr = LinearRegression(\n",
        "   fit_intercept = True, normalize = True, copy_X = True, n_jobs = 2\n",
        ").fit(X,y)\n",
        "\n",
        "regr.predict(np.array([[3,5]]))\n",
        "\n",
        "regr.score(X,y)\n",
        "\n",
        "print( regr.coef_ )\n",
        "print( regr.intercept_ )"
      ],
      "execution_count": null,
      "outputs": []
    },
    {
      "cell_type": "code",
      "metadata": {
        "id": "m0MJ4aE4BCg7"
      },
      "source": [
        "# \n",
        "from sklearn import datasets\n",
        "from sklearn import linear_model\n",
        "from sklearn.datasets import load_iris\n",
        "from sklearn.utils import shuffle\n",
        "\n",
        "X, y = load_iris(return_X_y = True)\n",
        "X, y = shuffle(X, y)\n",
        "\n",
        "LRG = linear_model.LogisticRegression(\n",
        "   random_state = 0, solver = 'liblinear', multi_class = 'auto'\n",
        ").fit(X[:-50], y[:-50])\n",
        "\n",
        "\n",
        "print(len(X))\n",
        "print(len(y))\n",
        "print(X[:10])\n",
        "print(y[:10])\n",
        "\n",
        "test = [ [5.1,3.5,1.4,0.2] ]\n",
        "LRG.predict( test )\n",
        "\n",
        "LRG.score(X[100:150], y[100:150])"
      ],
      "execution_count": null,
      "outputs": []
    },
    {
      "cell_type": "code",
      "metadata": {
        "id": "vR5nqN_eEJML"
      },
      "source": [
        "# Scikit Learn - Extended Linear Modeling\n",
        "\n",
        "# Scikit Learn - Stochastic Gradient Descent\n",
        "\n"
      ],
      "execution_count": null,
      "outputs": []
    }
  ]
}
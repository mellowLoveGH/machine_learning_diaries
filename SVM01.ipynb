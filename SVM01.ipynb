{
  "nbformat": 4,
  "nbformat_minor": 0,
  "metadata": {
    "colab": {
      "name": "SVM01.ipynb",
      "provenance": [],
      "collapsed_sections": []
    },
    "kernelspec": {
      "name": "python3",
      "display_name": "Python 3"
    }
  },
  "cells": [
    {
      "cell_type": "code",
      "metadata": {
        "colab": {
          "base_uri": "https://localhost:8080/"
        },
        "id": "6NEZt4-GH7Tb",
        "outputId": "96bd9f23-dbab-41c2-a350-d0d779ea28cb"
      },
      "source": [
        "# Using Support Vector Machines for classification tasks\n",
        "\n",
        "import numpy as np\n",
        "import pandas as pd\n",
        "import sklearn\n",
        "import sklearn.datasets as ds\n",
        "#import sklearn.cross_validation as cv\n",
        "from sklearn.model_selection import check_cv\n",
        "#import sklearn.grid_search as gs\n",
        "from sklearn.model_selection import GridSearchCV\n",
        "import sklearn.svm as svm\n",
        "import sklearn.linear_model\n",
        "import matplotlib as mpl\n",
        "import matplotlib.pyplot as plt\n",
        "%matplotlib inline\n",
        "\n",
        "X = np.random.randn(200, 2)\n",
        "y = X[:, 0] + X[:, 1] > 1\n",
        "#print(X)\n",
        "\n",
        "print(X.shape)\n",
        "print(X[0,0])\n",
        "print(X[0,1])\n",
        "print(y[0])"
      ],
      "execution_count": null,
      "outputs": [
        {
          "output_type": "stream",
          "text": [
            "(200, 2)\n",
            "-1.6223010937855584\n",
            "0.5861075702349235\n",
            "False\n"
          ],
          "name": "stdout"
        }
      ]
    },
    {
      "cell_type": "code",
      "metadata": {
        "colab": {
          "base_uri": "https://localhost:8080/",
          "height": 137
        },
        "id": "3W-dZQf7J6gn",
        "outputId": "46f782dc-297a-4f10-f627-fbbd94c76a0e"
      },
      "source": [
        "est = svm.LinearSVC()\n",
        "est.fit(X, y);\n",
        "\n",
        "# We generate a grid in the square [-3,3 ]^2.\n",
        "xx, yy = np.meshgrid(np.linspace(-3, 3, 500), \n",
        "                     \n",
        "# Flatten the meshgrid so we can apply the decision function\n",
        "Z = est.decision_function(np.c_[xx.ravel(), yy.ravel()])\n",
        "# Put the results back in the right 250x250 shape\n",
        "print(xx)\n",
        "print(xx.shape)\n",
        "Z = Z.reshape(xx.shape)\n",
        "np.linspace(-3, 3, 500))"
      ],
      "execution_count": null,
      "outputs": [
        {
          "output_type": "error",
          "ename": "SyntaxError",
          "evalue": "ignored",
          "traceback": [
            "\u001b[0;36m  File \u001b[0;32m\"<ipython-input-21-6eab14ae1119>\"\u001b[0;36m, line \u001b[0;32m10\u001b[0m\n\u001b[0;31m    print(xx)\u001b[0m\n\u001b[0m        ^\u001b[0m\n\u001b[0;31mSyntaxError\u001b[0m\u001b[0;31m:\u001b[0m invalid syntax\n"
          ]
        }
      ]
    }
  ]
}
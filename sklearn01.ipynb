{
  "nbformat": 4,
  "nbformat_minor": 0,
  "metadata": {
    "colab": {
      "name": "sklearn01.ipynb",
      "provenance": []
    },
    "kernelspec": {
      "name": "python3",
      "display_name": "Python 3"
    }
  },
  "cells": [
    {
      "cell_type": "code",
      "metadata": {
        "id": "4PjLvVEZDrTx"
      },
      "source": [
        "# https://www.tutorialspoint.com/scikit_learn\n",
        "from sklearn.datasets import load_iris\n",
        "iris = load_iris()\n",
        "X = iris.data\n",
        "y = iris.target\n",
        "feature_names = iris.feature_names\n",
        "target_names = iris.target_names\n",
        "print(\"Feature names:\", feature_names)\n",
        "print(\"Target names:\", target_names)\n",
        "#\n",
        "\n",
        "print(len(iris))\n",
        "for col in iris:\n",
        "  print(col)\n",
        "print()\n",
        "print(len(X))\n",
        "print(X.shape)\n",
        "print(len(y))\n",
        "print(y.shape)\n",
        "#print(iris.filename)\n",
        "print()\n",
        "\n",
        "print(\"\\nFirst 5 rows of X:\\n\", X[:5])\n",
        "print()\n",
        "print(\"\\nFirst 5 rows of y:\\n\", y[:5])"
      ],
      "execution_count": null,
      "outputs": []
    },
    {
      "cell_type": "code",
      "metadata": {
        "id": "fafjuuNKFcOC"
      },
      "source": [
        "from sklearn.model_selection import train_test_split\n",
        "\n",
        "X_train, X_test, y_train, y_test = train_test_split(\n",
        "   X, y, test_size = 0.3, random_state = 1\n",
        ")\n",
        "# random_size − It is used to guarantee that the split will always be the same\n",
        "print(X_train.shape)\n",
        "print(X_test.shape)\n",
        "print(y_train.shape)\n",
        "print(y_test.shape)\n",
        "print()\n",
        "\n",
        "from sklearn.neighbors import KNeighborsClassifier\n",
        "from sklearn import metrics\n",
        "\n",
        "classifier_knn = KNeighborsClassifier(n_neighbors = 3)\n",
        "classifier_knn.fit(X_train, y_train)\n",
        "\n",
        "y_pred = classifier_knn.predict(X_test)\n",
        "print(\"Accuracy:\", metrics.accuracy_score(y_test, y_pred))\n",
        "print()\n",
        "\n",
        "\n",
        "sample = [[5, 5, 3, 2], [2, 4, 3, 5]]\n",
        "preds = classifier_knn.predict(sample)\n",
        "pred_species = [iris.target_names[p] for p in preds] \n",
        "print(\"Predictions:\", pred_species)"
      ],
      "execution_count": null,
      "outputs": []
    },
    {
      "cell_type": "code",
      "metadata": {
        "id": "9bASAkalcuV0"
      },
      "source": [
        "def get2Dpoint(X, y, n1, n2):\n",
        "  px = []\n",
        "  py = []\n",
        "  pc = []\n",
        "  for i in range(0, len(X)):\n",
        "    px.append(X[i][n1])\n",
        "    py.append(X[i][n2])\n",
        "    if y[i]==0: \n",
        "      pc.append('red')\n",
        "    elif y[i]==1: \n",
        "      pc.append('green')\n",
        "    else:\n",
        "      pc.append('blue')\n",
        "  return px, py, pc\n",
        "\n",
        "\n",
        "\n",
        "from matplotlib import pyplot as plt\n",
        "\n",
        "# use the sepal length & width\n",
        "px, py, pc = get2Dpoint(X, y, 0, 1)\n",
        "plt.scatter(px, py, color=pc)\n",
        "plt.show()\n",
        "\n",
        "# use the petal length & width\n",
        "px, py, pc = get2Dpoint(X, y, 2, 3)\n",
        "plt.scatter(px, py, color=pc)\n",
        "plt.show()\n",
        "\n",
        "# use the sepal length & petal length\n",
        "px, py, pc = get2Dpoint(X, y, 0, 2)\n",
        "plt.scatter(px, py, color=pc)\n",
        "plt.show()\n",
        "\n",
        "# use the sepal width & petal width\n",
        "px, py, pc = get2Dpoint(X, y, 1, 3)\n",
        "plt.scatter(px, py, color=pc)\n",
        "plt.show()\n",
        "\n",
        "# use the sepal length & petal width\n",
        "px, py, pc = get2Dpoint(X, y, 0, 3)\n",
        "plt.scatter(px, py, color=pc)\n",
        "plt.show()\n",
        "\n",
        "# use the sepal width & petal length\n",
        "px, py, pc = get2Dpoint(X, y, 1, 2)\n",
        "plt.scatter(px, py, color=pc)\n",
        "plt.show()"
      ],
      "execution_count": null,
      "outputs": []
    },
    {
      "cell_type": "code",
      "metadata": {
        "id": "Iw5L0He4GT74"
      },
      "source": [
        "# save model and load\n",
        "from sklearn.externals import joblib\n",
        "joblib.dump(classifier_knn, 'iris_classifier_knn.joblib')\n",
        "joblib.load('iris_classifier_knn.joblib')"
      ],
      "execution_count": null,
      "outputs": []
    },
    {
      "cell_type": "code",
      "metadata": {
        "id": "47X-tXyr-6rH"
      },
      "source": [
        "# Scikit Learn - Linear Regression\n",
        "\n"
      ],
      "execution_count": null,
      "outputs": []
    },
    {
      "cell_type": "code",
      "metadata": {
        "id": "o8FmJD2aGblF"
      },
      "source": [
        "# Preprocessing the Data\n",
        "import numpy as np\n",
        "from sklearn import preprocessing\n",
        "\n",
        "input_data = np.array(\n",
        "  [ [2.1, -1.9, 5.5],\n",
        "   [-1.5, 2.4, 3.5],\n",
        "   [0.5, -7.9, 5.6],\n",
        "   [5.9, 2.3, -5.8] ]\n",
        ")\n",
        "\n",
        "data_binarized = preprocessing.Binarizer(threshold=0.5).transform(input_data)\n",
        "print(\"\\nBinarized data:\\n\", data_binarized)\n",
        "print()\n",
        "\n",
        "print(\"Mean =\", input_data.mean(axis=0))\n",
        "print(\"Stddeviation = \", input_data.std(axis=0))\n",
        "print()\n",
        "\n",
        "data_scaled = preprocessing.scale(input_data)\n",
        "print(\"Mean_removed =\", data_scaled.mean(axis=0))\n",
        "print(\"Stddeviation_removed =\", data_scaled.std(axis=0))\n",
        "print()\n",
        "\n",
        "data_scaler_minmax = preprocessing.MinMaxScaler(feature_range=(0,1))\n",
        "data_scaled_minmax = data_scaler_minmax.fit_transform(input_data)\n",
        "print (\"\\nMin max scaled data:\\n\", data_scaled_minmax)\n",
        "print()\n",
        "\n",
        "data_normalized_l1 = preprocessing.normalize(input_data, norm='l1')\n",
        "print(\"\\nL1 normalized data:\\n\", data_normalized_l1)\n",
        "print()\n",
        "\n",
        "data_normalized_l2 = preprocessing.normalize(input_data, norm='l2')\n",
        "print(\"\\nL1 normalized data:\\n\", data_normalized_l2)"
      ],
      "execution_count": null,
      "outputs": []
    },
    {
      "cell_type": "code",
      "metadata": {
        "colab": {
          "base_uri": "https://localhost:8080/",
          "height": 265
        },
        "id": "k8T0w7bXceN7",
        "outputId": "346da05f-8bf8-4f4e-e469-7c1db8a6222a"
      },
      "source": [
        "X = [1,2,3,4]\n",
        "Y1 = [4,8,12,16]\n",
        "Y2 = [1,4,9,16]\n",
        "\n",
        "from matplotlib import pyplot as plt\n",
        "plt.scatter(X,Y1,color='red')\n",
        "plt.scatter(X,Y2,color='blue')\n",
        "plt.show()"
      ],
      "execution_count": null,
      "outputs": [
        {
          "output_type": "display_data",
          "data": {
            "image/png": "[encoded data removed]",
            "text/plain": [
              "<Figure size 432x288 with 1 Axes>"
            ]
          },
          "metadata": {
            "tags": [],
            "needs_background": "light"
          }
        }
      ]
    },
    {
      "cell_type": "code",
      "metadata": {
        "id": "J0QklSz-Ec7D"
      },
      "source": [
        "# scikit-learn\n",
        "# built upon NumPy, SciPy and Matplotlib.\n",
        "# https://scikit-learn.org/stable/tutorial/index.html\n",
        "# https://www.dataquest.io/blog/sci-kit-learn-tutorial/\n",
        "\n",
        "from sklearn import datasets\n",
        "iris = datasets.load_iris()\n",
        "digits = datasets.load_digits()\n",
        "\n",
        "print(len(digits))\n",
        "print(type(digits))\n",
        "for item in digits:\n",
        "  print(item)\n",
        "\n",
        "print()\n",
        "ds = digits.data\n",
        "dt = digits.target\n",
        "dtn = digits.target_names\n",
        "di = digits.images\n",
        "dd = digits.DESCR\n",
        "\n",
        "print(len(ds))\n",
        "print(len(dt))\n",
        "print(len(dtn))\n",
        "print(dtn)\n",
        "print(len(di))\n",
        "print(len(dd))"
      ],
      "execution_count": null,
      "outputs": []
    },
    {
      "cell_type": "code",
      "metadata": {
        "id": "uR_xyHpnFsE5"
      },
      "source": [
        "print(di[0])\n",
        "\n",
        "import matplotlib.pyplot as plt\n",
        "import matplotlib.image as mpimg\n",
        "plt.imshow(di[2])"
      ],
      "execution_count": null,
      "outputs": []
    },
    {
      "cell_type": "code",
      "metadata": {
        "colab": {
          "base_uri": "https://localhost:8080/"
        },
        "id": "ah3-5XoBF9LQ",
        "outputId": "cd9409d1-42d1-4839-85be-49c80af9b2cc"
      },
      "source": [
        "from sklearn import svm\n",
        "clf = svm.SVC(gamma=0.001, C=100.)\n",
        "clf.fit(digits.data[:-1], digits.target[:-1])"
      ],
      "execution_count": null,
      "outputs": [
        {
          "output_type": "execute_result",
          "data": {
            "text/plain": [
              "SVC(C=100.0, break_ties=False, cache_size=200, class_weight=None, coef0=0.0,\n",
              "    decision_function_shape='ovr', degree=3, gamma=0.001, kernel='rbf',\n",
              "    max_iter=-1, probability=False, random_state=None, shrinking=True,\n",
              "    tol=0.001, verbose=False)"
            ]
          },
          "metadata": {
            "tags": []
          },
          "execution_count": 15
        }
      ]
    },
    {
      "cell_type": "code",
      "metadata": {
        "colab": {
          "base_uri": "https://localhost:8080/"
        },
        "id": "S4OJAmLSGaBI",
        "outputId": "ea14649b-12bd-4629-da61-8160afc6a104"
      },
      "source": [
        "clf.predict(digits.data[-1:])"
      ],
      "execution_count": null,
      "outputs": [
        {
          "output_type": "execute_result",
          "data": {
            "text/plain": [
              "array([8])"
            ]
          },
          "metadata": {
            "tags": []
          },
          "execution_count": 16
        }
      ]
    }
  ]
}
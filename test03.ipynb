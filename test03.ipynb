{
  "nbformat": 4,
  "nbformat_minor": 0,
  "metadata": {
    "colab": {
      "name": "test03.ipynb",
      "provenance": []
    },
    "kernelspec": {
      "name": "python3",
      "display_name": "Python 3"
    }
  },
  "cells": [
    {
      "cell_type": "code",
      "metadata": {
        "id": "CKR5D9RxNOlt"
      },
      "source": [
        "!pip uninstall tensorflow -y\n",
        "!pip3 uninstall tensorflow-gpu -y\n",
        "!pip uninstall keras -y\n",
        "!pip3 uninstall opencv-python -y\n",
        "!pip uninstall imageai -y"
      ],
      "execution_count": null,
      "outputs": []
    },
    {
      "cell_type": "code",
      "metadata": {
        "id": "USyvUrxbNCqV"
      },
      "source": [
        "%tensorflow_version 1.x\n",
        "import tensorflow as tf\n",
        "print(tf.__version__)\n",
        "!pip3 install keras==2.2.4\n",
        "!pip3 install tensorflow==1.13.1\n",
        "!pip3 install tensorflow-gpu==1.13.1\n",
        "!pip3 install opencv-python==4.1.2.30\n",
        "!pip3 install imageai==2.1.5\n",
        "print(tf.__version__)"
      ],
      "execution_count": null,
      "outputs": []
    },
    {
      "cell_type": "code",
      "metadata": {
        "id": "oQTuejZSOCPY"
      },
      "source": [
        "#Step1 — Getting Training Data\n",
        "!wget https://github.com/OlafenwaMoses/AppleDetection/releases/download/v1/apple_detection_dataset.zip\n",
        "!unzip apple_detection_dataset.zip\n",
        "\n",
        "!wget https://github.com/OlafenwaMoses/ImageAI/releases/download/essential-v4/pretrained-yolov3.h5"
      ],
      "execution_count": null,
      "outputs": []
    },
    {
      "cell_type": "code",
      "metadata": {
        "id": "4eakv4BCOQ1E"
      },
      "source": [
        "%tensorflow_version 1.x\n",
        "\n",
        "from imageai.Detection import ObjectDetection\n",
        "import os\n",
        "\n",
        "execution_path = os.getcwd()\n",
        "\n",
        "detector = ObjectDetection()\n",
        "detector.setModelTypeAsRetinaNet()\n",
        "detector.setModelPath( os.path.join(execution_path , \"resnet50_coco_best_v2.0.1.h5\"))\n",
        "detector.loadModel()\n",
        "detections = detector.detectObjectsFromImage(input_image=os.path.join(execution_path , \"image.jpg\"), output_image_path=os.path.join(execution_path , \"imagenew.jpg\"))\n",
        "\n",
        "for eachObject in detections:\n",
        "    print(eachObject[\"name\"] , \" : \" , eachObject[\"percentage_probability\"] )\n"
      ],
      "execution_count": null,
      "outputs": []
    }
  ]
}
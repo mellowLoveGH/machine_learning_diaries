{
  "nbformat": 4,
  "nbformat_minor": 0,
  "metadata": {
    "colab": {
      "name": "Untitled0.ipynb",
      "provenance": []
    },
    "kernelspec": {
      "name": "python3",
      "display_name": "Python 3"
    }
  },
  "cells": [
    {
      "cell_type": "code",
      "metadata": {
        "id": "h-g7i7WViKFf"
      },
      "source": [
        "import numpy as np\r\n",
        "from sklearn.datasets import load_iris\r\n",
        "iris = load_iris()\r\n",
        "print( len(iris) )\r\n",
        "print( iris.keys() )\r\n",
        "print( type(iris) )\r\n",
        "\r\n",
        "# Data in scikit-learn is in most cases saved as two-dimensional Numpy arrays with the shape (n, m)\r\n",
        "n_samples, n_features = iris.data.shape\r\n",
        "print('Number of samples:', n_samples)\r\n",
        "print('Number of features:', n_features)\r\n",
        "print(iris.data[0])\r\n",
        "\r\n",
        "# \r\n",
        "print(iris.target)\r\n",
        "print( len(iris.target) )\r\n",
        "print(iris.data.shape)\r\n",
        "print(iris.target.shape)\r\n",
        "\r\n",
        "#\r\n",
        "np.bincount(iris.target)\r\n",
        "print( len(iris.target_names) )\r\n",
        "print(iris.target_names)\r\n",
        "\r\n",
        "# \r\n",
        "print(iris.data[iris.target==1][:5])\r\n",
        "print()\r\n",
        "print(iris.data)"
      ],
      "execution_count": null,
      "outputs": []
    },
    {
      "cell_type": "code",
      "metadata": {
        "id": "tGUs4oJYlgyh"
      },
      "source": [
        "# Train and Test Sets\r\n",
        "print(iris.target)\r\n",
        "print( len(iris.target) )\r\n",
        "print()\r\n",
        "\r\n",
        "# \r\n",
        "indices = np.random.permutation(len(iris.data))\r\n",
        "print(indices)\r\n",
        "print( len(indices) )\r\n",
        "print()\r\n",
        "\r\n",
        "n_test_samples = 12\r\n",
        "learnset_data = iris.data[indices[:-n_test_samples]]\r\n",
        "learnset_labels = iris.target[indices[:-n_test_samples]]\r\n",
        "testset_data = iris.data[indices[-n_test_samples:]]\r\n",
        "testset_labels = iris.target[indices[-n_test_samples:]]\r\n",
        "print(learnset_data[:4], learnset_labels[:4])\r\n",
        "print(testset_data[:4], testset_labels[:4])\r\n",
        "print()"
      ],
      "execution_count": null,
      "outputs": []
    },
    {
      "cell_type": "code",
      "metadata": {
        "colab": {
          "base_uri": "https://localhost:8080/"
        },
        "id": "t0-z4BQkmS2X",
        "outputId": "15514066-c93c-49c3-fa21-8404e3808910"
      },
      "source": [
        "# \r\n",
        "from sklearn.model_selection import train_test_split\r\n",
        "\r\n",
        "data, labels = iris.data, iris.target\r\n",
        "res = train_test_split(data, labels, train_size=0.8, test_size=0.2, random_state=42)\r\n",
        "train_data, test_data, train_labels, test_labels = res\r\n",
        "\r\n",
        "print(\"Labels for training and testing data\")\r\n",
        "print(test_data[:5])\r\n",
        "print(test_labels[:5])\r\n",
        "print()"
      ],
      "execution_count": null,
      "outputs": [
        {
          "output_type": "stream",
          "text": [
            "Labels for training and testing data\n",
            "[[6.1 2.8 4.7 1.2]\n",
            " [5.7 3.8 1.7 0.3]\n",
            " [7.7 2.6 6.9 2.3]\n",
            " [6.  2.9 4.5 1.5]\n",
            " [6.8 2.8 4.8 1.4]]\n",
            "[1 0 2 1 1]\n",
            "\n"
          ],
          "name": "stdout"
        }
      ]
    }
  ]
}